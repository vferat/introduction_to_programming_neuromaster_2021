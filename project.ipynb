{
 "cells": [
  {
   "cell_type": "code",
   "execution_count": 98,
   "source": [
    "import spotipy\r\n",
    "from spotipy.oauth2 import SpotifyClientCredentials"
   ],
   "outputs": [],
   "metadata": {}
  },
  {
   "cell_type": "code",
   "execution_count": null,
   "source": [
    "client_id = 'd1bb9a9bceb14d4492c939a08bf52e27'\r\n",
    "client_secret = '6271fb95c2f84f8fa6a9c28fb35d0e96'\r\n",
    "\r\n",
    "client_credentials_manager = SpotifyClientCredentials(client_id, client_secret)\r\n",
    "sp = spotipy.Spotify(client_credentials_manager=client_credentials_manager)"
   ],
   "outputs": [],
   "metadata": {}
  },
  {
   "cell_type": "code",
   "execution_count": 132,
   "source": [
    "id = 'https://open.spotify.com/track/4TYu2jojSGxALs2YNWnnwr?si=f500629e89774c4d'\r\n",
    "sp.audio_features(id)[0]"
   ],
   "outputs": [
    {
     "output_type": "execute_result",
     "data": {
      "text/plain": [
       "{'danceability': 0.58,\n",
       " 'energy': 0.278,\n",
       " 'key': 10,\n",
       " 'loudness': -9.566,\n",
       " 'mode': 1,\n",
       " 'speechiness': 0.0333,\n",
       " 'acousticness': 0.424,\n",
       " 'instrumentalness': 0.000105,\n",
       " 'liveness': 0.105,\n",
       " 'valence': 0.23,\n",
       " 'tempo': 119.86,\n",
       " 'type': 'audio_features',\n",
       " 'id': '4TYu2jojSGxALs2YNWnnwr',\n",
       " 'uri': 'spotify:track:4TYu2jojSGxALs2YNWnnwr',\n",
       " 'track_href': 'https://api.spotify.com/v1/tracks/4TYu2jojSGxALs2YNWnnwr',\n",
       " 'analysis_url': 'https://api.spotify.com/v1/audio-analysis/4TYu2jojSGxALs2YNWnnwr',\n",
       " 'duration_ms': 243665,\n",
       " 'time_signature': 3}"
      ]
     },
     "metadata": {},
     "execution_count": 132
    }
   ],
   "metadata": {}
  }
 ],
 "metadata": {
  "orig_nbformat": 4,
  "language_info": {
   "name": "python",
   "version": "3.7.4",
   "mimetype": "text/x-python",
   "codemirror_mode": {
    "name": "ipython",
    "version": 3
   },
   "pygments_lexer": "ipython3",
   "nbconvert_exporter": "python",
   "file_extension": ".py"
  },
  "kernelspec": {
   "name": "python3",
   "display_name": "Python 3.7.4 64-bit ('base': conda)"
  },
  "interpreter": {
   "hash": "8bfa9b8afc4a5769414515d993dbe7a8b39e04697d5ee1375014cc76f2075283"
  }
 },
 "nbformat": 4,
 "nbformat_minor": 2
}